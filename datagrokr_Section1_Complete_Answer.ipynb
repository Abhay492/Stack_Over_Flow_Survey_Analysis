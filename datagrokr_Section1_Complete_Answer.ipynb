{
 "cells": [
  {
   "cell_type": "code",
   "execution_count": 1,
   "metadata": {},
   "outputs": [],
   "source": [
    "import numpy as np"
   ]
  },
  {
   "cell_type": "code",
   "execution_count": 42,
   "metadata": {},
   "outputs": [
    {
     "data": {
      "text/html": [
       "<div>\n",
       "<style scoped>\n",
       "    .dataframe tbody tr th:only-of-type {\n",
       "        vertical-align: middle;\n",
       "    }\n",
       "\n",
       "    .dataframe tbody tr th {\n",
       "        vertical-align: top;\n",
       "    }\n",
       "\n",
       "    .dataframe thead th {\n",
       "        text-align: right;\n",
       "    }\n",
       "</style>\n",
       "<table border=\"1\" class=\"dataframe\">\n",
       "  <thead>\n",
       "    <tr style=\"text-align: right;\">\n",
       "      <th></th>\n",
       "      <th>Respondent</th>\n",
       "      <th>MainBranch</th>\n",
       "      <th>Hobbyist</th>\n",
       "      <th>OpenSourcer</th>\n",
       "      <th>OpenSource</th>\n",
       "      <th>Employment</th>\n",
       "      <th>Country</th>\n",
       "      <th>Student</th>\n",
       "      <th>EdLevel</th>\n",
       "      <th>UndergradMajor</th>\n",
       "      <th>...</th>\n",
       "      <th>WelcomeChange</th>\n",
       "      <th>SONewContent</th>\n",
       "      <th>Age</th>\n",
       "      <th>Gender</th>\n",
       "      <th>Trans</th>\n",
       "      <th>Sexuality</th>\n",
       "      <th>Ethnicity</th>\n",
       "      <th>Dependents</th>\n",
       "      <th>SurveyLength</th>\n",
       "      <th>SurveyEase</th>\n",
       "    </tr>\n",
       "  </thead>\n",
       "  <tbody>\n",
       "    <tr>\n",
       "      <th>0</th>\n",
       "      <td>1</td>\n",
       "      <td>I am a student who is learning to code</td>\n",
       "      <td>Yes</td>\n",
       "      <td>Never</td>\n",
       "      <td>The quality of OSS and closed source software ...</td>\n",
       "      <td>Not employed, and not looking for work</td>\n",
       "      <td>United Kingdom</td>\n",
       "      <td>No</td>\n",
       "      <td>Primary/elementary school</td>\n",
       "      <td>NaN</td>\n",
       "      <td>...</td>\n",
       "      <td>Just as welcome now as I felt last year</td>\n",
       "      <td>Tech articles written by other developers;Indu...</td>\n",
       "      <td>14.0</td>\n",
       "      <td>Man</td>\n",
       "      <td>No</td>\n",
       "      <td>Straight / Heterosexual</td>\n",
       "      <td>NaN</td>\n",
       "      <td>No</td>\n",
       "      <td>Appropriate in length</td>\n",
       "      <td>Neither easy nor difficult</td>\n",
       "    </tr>\n",
       "    <tr>\n",
       "      <th>1</th>\n",
       "      <td>2</td>\n",
       "      <td>I am a student who is learning to code</td>\n",
       "      <td>No</td>\n",
       "      <td>Less than once per year</td>\n",
       "      <td>The quality of OSS and closed source software ...</td>\n",
       "      <td>Not employed, but looking for work</td>\n",
       "      <td>Bosnia and Herzegovina</td>\n",
       "      <td>Yes, full-time</td>\n",
       "      <td>Secondary school (e.g. American high school, G...</td>\n",
       "      <td>NaN</td>\n",
       "      <td>...</td>\n",
       "      <td>Just as welcome now as I felt last year</td>\n",
       "      <td>Tech articles written by other developers;Indu...</td>\n",
       "      <td>19.0</td>\n",
       "      <td>Man</td>\n",
       "      <td>No</td>\n",
       "      <td>Straight / Heterosexual</td>\n",
       "      <td>NaN</td>\n",
       "      <td>No</td>\n",
       "      <td>Appropriate in length</td>\n",
       "      <td>Neither easy nor difficult</td>\n",
       "    </tr>\n",
       "    <tr>\n",
       "      <th>2</th>\n",
       "      <td>3</td>\n",
       "      <td>I am not primarily a developer, but I write co...</td>\n",
       "      <td>Yes</td>\n",
       "      <td>Never</td>\n",
       "      <td>The quality of OSS and closed source software ...</td>\n",
       "      <td>Employed full-time</td>\n",
       "      <td>Thailand</td>\n",
       "      <td>No</td>\n",
       "      <td>Bachelor’s degree (BA, BS, B.Eng., etc.)</td>\n",
       "      <td>Web development or web design</td>\n",
       "      <td>...</td>\n",
       "      <td>Just as welcome now as I felt last year</td>\n",
       "      <td>Tech meetups or events in your area;Courses on...</td>\n",
       "      <td>28.0</td>\n",
       "      <td>Man</td>\n",
       "      <td>No</td>\n",
       "      <td>Straight / Heterosexual</td>\n",
       "      <td>NaN</td>\n",
       "      <td>Yes</td>\n",
       "      <td>Appropriate in length</td>\n",
       "      <td>Neither easy nor difficult</td>\n",
       "    </tr>\n",
       "    <tr>\n",
       "      <th>3</th>\n",
       "      <td>4</td>\n",
       "      <td>I am a developer by profession</td>\n",
       "      <td>No</td>\n",
       "      <td>Never</td>\n",
       "      <td>The quality of OSS and closed source software ...</td>\n",
       "      <td>Employed full-time</td>\n",
       "      <td>United States</td>\n",
       "      <td>No</td>\n",
       "      <td>Bachelor’s degree (BA, BS, B.Eng., etc.)</td>\n",
       "      <td>Computer science, computer engineering, or sof...</td>\n",
       "      <td>...</td>\n",
       "      <td>Just as welcome now as I felt last year</td>\n",
       "      <td>Tech articles written by other developers;Indu...</td>\n",
       "      <td>22.0</td>\n",
       "      <td>Man</td>\n",
       "      <td>No</td>\n",
       "      <td>Straight / Heterosexual</td>\n",
       "      <td>White or of European descent</td>\n",
       "      <td>No</td>\n",
       "      <td>Appropriate in length</td>\n",
       "      <td>Easy</td>\n",
       "    </tr>\n",
       "    <tr>\n",
       "      <th>4</th>\n",
       "      <td>5</td>\n",
       "      <td>I am a developer by profession</td>\n",
       "      <td>Yes</td>\n",
       "      <td>Once a month or more often</td>\n",
       "      <td>OSS is, on average, of HIGHER quality than pro...</td>\n",
       "      <td>Employed full-time</td>\n",
       "      <td>Ukraine</td>\n",
       "      <td>No</td>\n",
       "      <td>Bachelor’s degree (BA, BS, B.Eng., etc.)</td>\n",
       "      <td>Computer science, computer engineering, or sof...</td>\n",
       "      <td>...</td>\n",
       "      <td>Just as welcome now as I felt last year</td>\n",
       "      <td>Tech meetups or events in your area;Courses on...</td>\n",
       "      <td>30.0</td>\n",
       "      <td>Man</td>\n",
       "      <td>No</td>\n",
       "      <td>Straight / Heterosexual</td>\n",
       "      <td>White or of European descent;Multiracial</td>\n",
       "      <td>No</td>\n",
       "      <td>Appropriate in length</td>\n",
       "      <td>Easy</td>\n",
       "    </tr>\n",
       "  </tbody>\n",
       "</table>\n",
       "<p>5 rows × 85 columns</p>\n",
       "</div>"
      ],
      "text/plain": [
       "   Respondent                                         MainBranch Hobbyist  \\\n",
       "0           1             I am a student who is learning to code      Yes   \n",
       "1           2             I am a student who is learning to code       No   \n",
       "2           3  I am not primarily a developer, but I write co...      Yes   \n",
       "3           4                     I am a developer by profession       No   \n",
       "4           5                     I am a developer by profession      Yes   \n",
       "\n",
       "                  OpenSourcer  \\\n",
       "0                       Never   \n",
       "1     Less than once per year   \n",
       "2                       Never   \n",
       "3                       Never   \n",
       "4  Once a month or more often   \n",
       "\n",
       "                                          OpenSource  \\\n",
       "0  The quality of OSS and closed source software ...   \n",
       "1  The quality of OSS and closed source software ...   \n",
       "2  The quality of OSS and closed source software ...   \n",
       "3  The quality of OSS and closed source software ...   \n",
       "4  OSS is, on average, of HIGHER quality than pro...   \n",
       "\n",
       "                               Employment                 Country  \\\n",
       "0  Not employed, and not looking for work          United Kingdom   \n",
       "1      Not employed, but looking for work  Bosnia and Herzegovina   \n",
       "2                      Employed full-time                Thailand   \n",
       "3                      Employed full-time           United States   \n",
       "4                      Employed full-time                 Ukraine   \n",
       "\n",
       "          Student                                            EdLevel  \\\n",
       "0              No                          Primary/elementary school   \n",
       "1  Yes, full-time  Secondary school (e.g. American high school, G...   \n",
       "2              No           Bachelor’s degree (BA, BS, B.Eng., etc.)   \n",
       "3              No           Bachelor’s degree (BA, BS, B.Eng., etc.)   \n",
       "4              No           Bachelor’s degree (BA, BS, B.Eng., etc.)   \n",
       "\n",
       "                                      UndergradMajor  ...  \\\n",
       "0                                                NaN  ...   \n",
       "1                                                NaN  ...   \n",
       "2                      Web development or web design  ...   \n",
       "3  Computer science, computer engineering, or sof...  ...   \n",
       "4  Computer science, computer engineering, or sof...  ...   \n",
       "\n",
       "                             WelcomeChange  \\\n",
       "0  Just as welcome now as I felt last year   \n",
       "1  Just as welcome now as I felt last year   \n",
       "2  Just as welcome now as I felt last year   \n",
       "3  Just as welcome now as I felt last year   \n",
       "4  Just as welcome now as I felt last year   \n",
       "\n",
       "                                        SONewContent   Age Gender Trans  \\\n",
       "0  Tech articles written by other developers;Indu...  14.0    Man    No   \n",
       "1  Tech articles written by other developers;Indu...  19.0    Man    No   \n",
       "2  Tech meetups or events in your area;Courses on...  28.0    Man    No   \n",
       "3  Tech articles written by other developers;Indu...  22.0    Man    No   \n",
       "4  Tech meetups or events in your area;Courses on...  30.0    Man    No   \n",
       "\n",
       "                 Sexuality                                 Ethnicity  \\\n",
       "0  Straight / Heterosexual                                       NaN   \n",
       "1  Straight / Heterosexual                                       NaN   \n",
       "2  Straight / Heterosexual                                       NaN   \n",
       "3  Straight / Heterosexual              White or of European descent   \n",
       "4  Straight / Heterosexual  White or of European descent;Multiracial   \n",
       "\n",
       "  Dependents           SurveyLength                  SurveyEase  \n",
       "0         No  Appropriate in length  Neither easy nor difficult  \n",
       "1         No  Appropriate in length  Neither easy nor difficult  \n",
       "2        Yes  Appropriate in length  Neither easy nor difficult  \n",
       "3         No  Appropriate in length                        Easy  \n",
       "4         No  Appropriate in length                        Easy  \n",
       "\n",
       "[5 rows x 85 columns]"
      ]
     },
     "execution_count": 42,
     "metadata": {},
     "output_type": "execute_result"
    }
   ],
   "source": [
    "import pandas as pd\n",
    "data=pd.read_csv('survey_results_public.csv')"
   ]
  },
  {
   "cell_type": "code",
   "execution_count": 129,
   "metadata": {},
   "outputs": [
    {
     "data": {
      "text/html": [
       "<div>\n",
       "<style scoped>\n",
       "    .dataframe tbody tr th:only-of-type {\n",
       "        vertical-align: middle;\n",
       "    }\n",
       "\n",
       "    .dataframe tbody tr th {\n",
       "        vertical-align: top;\n",
       "    }\n",
       "\n",
       "    .dataframe thead th {\n",
       "        text-align: right;\n",
       "    }\n",
       "</style>\n",
       "<table border=\"1\" class=\"dataframe\">\n",
       "  <thead>\n",
       "    <tr style=\"text-align: right;\">\n",
       "      <th></th>\n",
       "      <th>Respondent</th>\n",
       "      <th>MainBranch</th>\n",
       "      <th>Hobbyist</th>\n",
       "      <th>OpenSourcer</th>\n",
       "      <th>OpenSource</th>\n",
       "      <th>Employment</th>\n",
       "      <th>Country</th>\n",
       "      <th>Student</th>\n",
       "      <th>EdLevel</th>\n",
       "      <th>UndergradMajor</th>\n",
       "      <th>...</th>\n",
       "      <th>SONewContent</th>\n",
       "      <th>Age</th>\n",
       "      <th>Gender</th>\n",
       "      <th>Trans</th>\n",
       "      <th>Sexuality</th>\n",
       "      <th>Ethnicity</th>\n",
       "      <th>Dependents</th>\n",
       "      <th>SurveyLength</th>\n",
       "      <th>SurveyEase</th>\n",
       "      <th>python</th>\n",
       "    </tr>\n",
       "  </thead>\n",
       "  <tbody>\n",
       "    <tr>\n",
       "      <th>0</th>\n",
       "      <td>1</td>\n",
       "      <td>I am a student who is learning to code</td>\n",
       "      <td>Yes</td>\n",
       "      <td>Never</td>\n",
       "      <td>The quality of OSS and closed source software ...</td>\n",
       "      <td>Not employed, and not looking for work</td>\n",
       "      <td>United Kingdom</td>\n",
       "      <td>No</td>\n",
       "      <td>Primary/elementary school</td>\n",
       "      <td>NaN</td>\n",
       "      <td>...</td>\n",
       "      <td>Tech articles written by other developers;Indu...</td>\n",
       "      <td>14.0</td>\n",
       "      <td>Man</td>\n",
       "      <td>No</td>\n",
       "      <td>Straight / Heterosexual</td>\n",
       "      <td>NaN</td>\n",
       "      <td>No</td>\n",
       "      <td>Appropriate in length</td>\n",
       "      <td>Neither easy nor difficult</td>\n",
       "      <td>True</td>\n",
       "    </tr>\n",
       "    <tr>\n",
       "      <th>1</th>\n",
       "      <td>2</td>\n",
       "      <td>I am a student who is learning to code</td>\n",
       "      <td>No</td>\n",
       "      <td>Less than once per year</td>\n",
       "      <td>The quality of OSS and closed source software ...</td>\n",
       "      <td>Not employed, but looking for work</td>\n",
       "      <td>Bosnia and Herzegovina</td>\n",
       "      <td>Yes, full-time</td>\n",
       "      <td>Secondary school (e.g. American high school, G...</td>\n",
       "      <td>NaN</td>\n",
       "      <td>...</td>\n",
       "      <td>Tech articles written by other developers;Indu...</td>\n",
       "      <td>19.0</td>\n",
       "      <td>Man</td>\n",
       "      <td>No</td>\n",
       "      <td>Straight / Heterosexual</td>\n",
       "      <td>NaN</td>\n",
       "      <td>No</td>\n",
       "      <td>Appropriate in length</td>\n",
       "      <td>Neither easy nor difficult</td>\n",
       "      <td>True</td>\n",
       "    </tr>\n",
       "    <tr>\n",
       "      <th>2</th>\n",
       "      <td>3</td>\n",
       "      <td>I am not primarily a developer, but I write co...</td>\n",
       "      <td>Yes</td>\n",
       "      <td>Never</td>\n",
       "      <td>The quality of OSS and closed source software ...</td>\n",
       "      <td>Employed full-time</td>\n",
       "      <td>Thailand</td>\n",
       "      <td>No</td>\n",
       "      <td>Bachelor’s degree (BA, BS, B.Eng., etc.)</td>\n",
       "      <td>Web development or web design</td>\n",
       "      <td>...</td>\n",
       "      <td>Tech meetups or events in your area;Courses on...</td>\n",
       "      <td>28.0</td>\n",
       "      <td>Man</td>\n",
       "      <td>No</td>\n",
       "      <td>Straight / Heterosexual</td>\n",
       "      <td>NaN</td>\n",
       "      <td>Yes</td>\n",
       "      <td>Appropriate in length</td>\n",
       "      <td>Neither easy nor difficult</td>\n",
       "      <td>False</td>\n",
       "    </tr>\n",
       "  </tbody>\n",
       "</table>\n",
       "<p>3 rows × 86 columns</p>\n",
       "</div>"
      ],
      "text/plain": [
       "   Respondent                                         MainBranch Hobbyist  \\\n",
       "0           1             I am a student who is learning to code      Yes   \n",
       "1           2             I am a student who is learning to code       No   \n",
       "2           3  I am not primarily a developer, but I write co...      Yes   \n",
       "\n",
       "               OpenSourcer                                         OpenSource  \\\n",
       "0                    Never  The quality of OSS and closed source software ...   \n",
       "1  Less than once per year  The quality of OSS and closed source software ...   \n",
       "2                    Never  The quality of OSS and closed source software ...   \n",
       "\n",
       "                               Employment                 Country  \\\n",
       "0  Not employed, and not looking for work          United Kingdom   \n",
       "1      Not employed, but looking for work  Bosnia and Herzegovina   \n",
       "2                      Employed full-time                Thailand   \n",
       "\n",
       "          Student                                            EdLevel  \\\n",
       "0              No                          Primary/elementary school   \n",
       "1  Yes, full-time  Secondary school (e.g. American high school, G...   \n",
       "2              No           Bachelor’s degree (BA, BS, B.Eng., etc.)   \n",
       "\n",
       "                  UndergradMajor  ...  \\\n",
       "0                            NaN  ...   \n",
       "1                            NaN  ...   \n",
       "2  Web development or web design  ...   \n",
       "\n",
       "                                        SONewContent   Age Gender Trans  \\\n",
       "0  Tech articles written by other developers;Indu...  14.0    Man    No   \n",
       "1  Tech articles written by other developers;Indu...  19.0    Man    No   \n",
       "2  Tech meetups or events in your area;Courses on...  28.0    Man    No   \n",
       "\n",
       "                 Sexuality Ethnicity Dependents           SurveyLength  \\\n",
       "0  Straight / Heterosexual       NaN         No  Appropriate in length   \n",
       "1  Straight / Heterosexual       NaN         No  Appropriate in length   \n",
       "2  Straight / Heterosexual       NaN        Yes  Appropriate in length   \n",
       "\n",
       "                   SurveyEase python  \n",
       "0  Neither easy nor difficult   True  \n",
       "1  Neither easy nor difficult   True  \n",
       "2  Neither easy nor difficult  False  \n",
       "\n",
       "[3 rows x 86 columns]"
      ]
     },
     "execution_count": 129,
     "metadata": {},
     "output_type": "execute_result"
    }
   ],
   "source": [
    "data.head(3)"
   ]
  },
  {
   "cell_type": "code",
   "execution_count": 17,
   "metadata": {},
   "outputs": [
    {
     "name": "stdout",
     "output_type": "stream",
     "text": [
      "<class 'pandas.core.frame.DataFrame'>\n",
      "RangeIndex: 88883 entries, 0 to 88882\n",
      "Data columns (total 85 columns):\n",
      " #   Column                  Non-Null Count  Dtype  \n",
      "---  ------                  --------------  -----  \n",
      " 0   Respondent              88883 non-null  int64  \n",
      " 1   MainBranch              88331 non-null  object \n",
      " 2   Hobbyist                88883 non-null  object \n",
      " 3   OpenSourcer             88883 non-null  object \n",
      " 4   OpenSource              86842 non-null  object \n",
      " 5   Employment              87181 non-null  object \n",
      " 6   Country                 88751 non-null  object \n",
      " 7   Student                 87014 non-null  object \n",
      " 8   EdLevel                 86390 non-null  object \n",
      " 9   UndergradMajor          75614 non-null  object \n",
      " 10  EduOther                84260 non-null  object \n",
      " 11  OrgSize                 71791 non-null  object \n",
      " 12  DevType                 81335 non-null  object \n",
      " 13  YearsCode               87938 non-null  object \n",
      " 14  Age1stCode              87634 non-null  object \n",
      " 15  YearsCodePro            74331 non-null  object \n",
      " 16  CareerSat               72847 non-null  object \n",
      " 17  JobSat                  70988 non-null  object \n",
      " 18  MgrIdiot                61159 non-null  object \n",
      " 19  MgrMoney                61157 non-null  object \n",
      " 20  MgrWant                 61232 non-null  object \n",
      " 21  JobSeek                 80555 non-null  object \n",
      " 22  LastHireDate            79854 non-null  object \n",
      " 23  LastInt                 67155 non-null  object \n",
      " 24  FizzBuzz                71344 non-null  object \n",
      " 25  JobFactors              79371 non-null  object \n",
      " 26  ResumeUpdate            77877 non-null  object \n",
      " 27  CurrencySymbol          71392 non-null  object \n",
      " 28  CurrencyDesc            71392 non-null  object \n",
      " 29  CompTotal               55945 non-null  float64\n",
      " 30  CompFreq                63268 non-null  object \n",
      " 31  ConvertedComp           55823 non-null  float64\n",
      " 32  WorkWeekHrs             64503 non-null  float64\n",
      " 33  WorkPlan                68914 non-null  object \n",
      " 34  WorkChallenge           68141 non-null  object \n",
      " 35  WorkRemote              70284 non-null  object \n",
      " 36  WorkLoc                 70055 non-null  object \n",
      " 37  ImpSyn                  71779 non-null  object \n",
      " 38  CodeRev                 70390 non-null  object \n",
      " 39  CodeRevHrs              49790 non-null  float64\n",
      " 40  UnitTests               62668 non-null  object \n",
      " 41  PurchaseHow             61108 non-null  object \n",
      " 42  PurchaseWhat            62029 non-null  object \n",
      " 43  LanguageWorkedWith      87569 non-null  object \n",
      " 44  LanguageDesireNextYear  84088 non-null  object \n",
      " 45  DatabaseWorkedWith      76026 non-null  object \n",
      " 46  DatabaseDesireNextYear  69147 non-null  object \n",
      " 47  PlatformWorkedWith      80714 non-null  object \n",
      " 48  PlatformDesireNextYear  77443 non-null  object \n",
      " 49  WebFrameWorkedWith      65022 non-null  object \n",
      " 50  WebFrameDesireNextYear  62944 non-null  object \n",
      " 51  MiscTechWorkedWith      59586 non-null  object \n",
      " 52  MiscTechDesireNextYear  64511 non-null  object \n",
      " 53  DevEnviron              87317 non-null  object \n",
      " 54  OpSys                   87851 non-null  object \n",
      " 55  Containers              85366 non-null  object \n",
      " 56  BlockchainOrg           48175 non-null  object \n",
      " 57  BlockchainIs            60165 non-null  object \n",
      " 58  BetterLife              86269 non-null  object \n",
      " 59  ITperson                87141 non-null  object \n",
      " 60  OffOn                   86663 non-null  object \n",
      " 61  SocialMedia             84437 non-null  object \n",
      " 62  Extraversion            87305 non-null  object \n",
      " 63  ScreenName              80486 non-null  object \n",
      " 64  SOVisit1st              83877 non-null  object \n",
      " 65  SOVisitFreq             88263 non-null  object \n",
      " 66  SOVisitTo               88086 non-null  object \n",
      " 67  SOFindAnswer            87816 non-null  object \n",
      " 68  SOTimeSaved             86344 non-null  object \n",
      " 69  SOHowMuchTime           68378 non-null  object \n",
      " 70  SOAccount               87828 non-null  object \n",
      " 71  SOPartFreq              74692 non-null  object \n",
      " 72  SOJobs                  88066 non-null  object \n",
      " 73  EntTeams                87841 non-null  object \n",
      " 74  SOComm                  88131 non-null  object \n",
      " 75  WelcomeChange           85855 non-null  object \n",
      " 76  SONewContent            69560 non-null  object \n",
      " 77  Age                     79210 non-null  float64\n",
      " 78  Gender                  85406 non-null  object \n",
      " 79  Trans                   83607 non-null  object \n",
      " 80  Sexuality               76147 non-null  object \n",
      " 81  Ethnicity               76668 non-null  object \n",
      " 82  Dependents              83059 non-null  object \n",
      " 83  SurveyLength            86984 non-null  object \n",
      " 84  SurveyEase              87081 non-null  object \n",
      "dtypes: float64(5), int64(1), object(79)\n",
      "memory usage: 57.6+ MB\n"
     ]
    }
   ],
   "source": [
    "data.info()"
   ]
  },
  {
   "cell_type": "code",
   "execution_count": 4,
   "metadata": {},
   "outputs": [
    {
     "data": {
      "text/plain": [
       "Index(['Respondent', 'MainBranch', 'Hobbyist', 'OpenSourcer', 'OpenSource',\n",
       "       'Employment', 'Country', 'Student', 'EdLevel', 'UndergradMajor',\n",
       "       'EduOther', 'OrgSize', 'DevType', 'YearsCode', 'Age1stCode',\n",
       "       'YearsCodePro', 'CareerSat', 'JobSat', 'MgrIdiot', 'MgrMoney',\n",
       "       'MgrWant', 'JobSeek', 'LastHireDate', 'LastInt', 'FizzBuzz',\n",
       "       'JobFactors', 'ResumeUpdate', 'CurrencySymbol', 'CurrencyDesc',\n",
       "       'CompTotal', 'CompFreq', 'ConvertedComp', 'WorkWeekHrs', 'WorkPlan',\n",
       "       'WorkChallenge', 'WorkRemote', 'WorkLoc', 'ImpSyn', 'CodeRev',\n",
       "       'CodeRevHrs', 'UnitTests', 'PurchaseHow', 'PurchaseWhat',\n",
       "       'LanguageWorkedWith', 'LanguageDesireNextYear', 'DatabaseWorkedWith',\n",
       "       'DatabaseDesireNextYear', 'PlatformWorkedWith',\n",
       "       'PlatformDesireNextYear', 'WebFrameWorkedWith',\n",
       "       'WebFrameDesireNextYear', 'MiscTechWorkedWith',\n",
       "       'MiscTechDesireNextYear', 'DevEnviron', 'OpSys', 'Containers',\n",
       "       'BlockchainOrg', 'BlockchainIs', 'BetterLife', 'ITperson', 'OffOn',\n",
       "       'SocialMedia', 'Extraversion', 'ScreenName', 'SOVisit1st',\n",
       "       'SOVisitFreq', 'SOVisitTo', 'SOFindAnswer', 'SOTimeSaved',\n",
       "       'SOHowMuchTime', 'SOAccount', 'SOPartFreq', 'SOJobs', 'EntTeams',\n",
       "       'SOComm', 'WelcomeChange', 'SONewContent', 'Age', 'Gender', 'Trans',\n",
       "       'Sexuality', 'Ethnicity', 'Dependents', 'SurveyLength', 'SurveyEase'],\n",
       "      dtype='object')"
      ]
     },
     "execution_count": 4,
     "metadata": {},
     "output_type": "execute_result"
    }
   ],
   "source": [
    "data.columns"
   ]
  },
  {
   "cell_type": "code",
   "execution_count": 41,
   "metadata": {},
   "outputs": [
    {
     "data": {
      "text/html": [
       "<div>\n",
       "<style scoped>\n",
       "    .dataframe tbody tr th:only-of-type {\n",
       "        vertical-align: middle;\n",
       "    }\n",
       "\n",
       "    .dataframe tbody tr th {\n",
       "        vertical-align: top;\n",
       "    }\n",
       "\n",
       "    .dataframe thead th {\n",
       "        text-align: right;\n",
       "    }\n",
       "</style>\n",
       "<table border=\"1\" class=\"dataframe\">\n",
       "  <thead>\n",
       "    <tr style=\"text-align: right;\">\n",
       "      <th></th>\n",
       "      <th>Respondent</th>\n",
       "      <th>Age1stCode</th>\n",
       "      <th>CompTotal</th>\n",
       "      <th>ConvertedComp</th>\n",
       "      <th>WorkWeekHrs</th>\n",
       "      <th>CodeRevHrs</th>\n",
       "      <th>Age</th>\n",
       "    </tr>\n",
       "  </thead>\n",
       "  <tbody>\n",
       "    <tr>\n",
       "      <th>count</th>\n",
       "      <td>88883.000000</td>\n",
       "      <td>88883.000000</td>\n",
       "      <td>5.594500e+04</td>\n",
       "      <td>5.582300e+04</td>\n",
       "      <td>64503.000000</td>\n",
       "      <td>49790.000000</td>\n",
       "      <td>79210.000000</td>\n",
       "    </tr>\n",
       "    <tr>\n",
       "      <th>mean</th>\n",
       "      <td>44442.000000</td>\n",
       "      <td>15.192860</td>\n",
       "      <td>5.519014e+11</td>\n",
       "      <td>1.271107e+05</td>\n",
       "      <td>42.127197</td>\n",
       "      <td>5.084308</td>\n",
       "      <td>30.336699</td>\n",
       "    </tr>\n",
       "    <tr>\n",
       "      <th>std</th>\n",
       "      <td>25658.456325</td>\n",
       "      <td>5.471802</td>\n",
       "      <td>7.331926e+13</td>\n",
       "      <td>2.841523e+05</td>\n",
       "      <td>37.287610</td>\n",
       "      <td>5.513931</td>\n",
       "      <td>9.178390</td>\n",
       "    </tr>\n",
       "    <tr>\n",
       "      <th>min</th>\n",
       "      <td>1.000000</td>\n",
       "      <td>0.000000</td>\n",
       "      <td>0.000000e+00</td>\n",
       "      <td>0.000000e+00</td>\n",
       "      <td>1.000000</td>\n",
       "      <td>0.000000</td>\n",
       "      <td>1.000000</td>\n",
       "    </tr>\n",
       "    <tr>\n",
       "      <th>25%</th>\n",
       "      <td>22221.500000</td>\n",
       "      <td>12.000000</td>\n",
       "      <td>2.000000e+04</td>\n",
       "      <td>2.577750e+04</td>\n",
       "      <td>40.000000</td>\n",
       "      <td>2.000000</td>\n",
       "      <td>24.000000</td>\n",
       "    </tr>\n",
       "    <tr>\n",
       "      <th>50%</th>\n",
       "      <td>44442.000000</td>\n",
       "      <td>15.000000</td>\n",
       "      <td>6.200000e+04</td>\n",
       "      <td>5.728700e+04</td>\n",
       "      <td>40.000000</td>\n",
       "      <td>4.000000</td>\n",
       "      <td>29.000000</td>\n",
       "    </tr>\n",
       "    <tr>\n",
       "      <th>75%</th>\n",
       "      <td>66662.500000</td>\n",
       "      <td>18.000000</td>\n",
       "      <td>1.200000e+05</td>\n",
       "      <td>1.000000e+05</td>\n",
       "      <td>44.750000</td>\n",
       "      <td>6.000000</td>\n",
       "      <td>35.000000</td>\n",
       "    </tr>\n",
       "    <tr>\n",
       "      <th>max</th>\n",
       "      <td>88883.000000</td>\n",
       "      <td>86.000000</td>\n",
       "      <td>1.000000e+16</td>\n",
       "      <td>2.000000e+06</td>\n",
       "      <td>4850.000000</td>\n",
       "      <td>99.000000</td>\n",
       "      <td>99.000000</td>\n",
       "    </tr>\n",
       "  </tbody>\n",
       "</table>\n",
       "</div>"
      ],
      "text/plain": [
       "         Respondent    Age1stCode     CompTotal  ConvertedComp   WorkWeekHrs  \\\n",
       "count  88883.000000  88883.000000  5.594500e+04   5.582300e+04  64503.000000   \n",
       "mean   44442.000000     15.192860  5.519014e+11   1.271107e+05     42.127197   \n",
       "std    25658.456325      5.471802  7.331926e+13   2.841523e+05     37.287610   \n",
       "min        1.000000      0.000000  0.000000e+00   0.000000e+00      1.000000   \n",
       "25%    22221.500000     12.000000  2.000000e+04   2.577750e+04     40.000000   \n",
       "50%    44442.000000     15.000000  6.200000e+04   5.728700e+04     40.000000   \n",
       "75%    66662.500000     18.000000  1.200000e+05   1.000000e+05     44.750000   \n",
       "max    88883.000000     86.000000  1.000000e+16   2.000000e+06   4850.000000   \n",
       "\n",
       "         CodeRevHrs           Age  \n",
       "count  49790.000000  79210.000000  \n",
       "mean       5.084308     30.336699  \n",
       "std        5.513931      9.178390  \n",
       "min        0.000000      1.000000  \n",
       "25%        2.000000     24.000000  \n",
       "50%        4.000000     29.000000  \n",
       "75%        6.000000     35.000000  \n",
       "max       99.000000     99.000000  "
      ]
     },
     "execution_count": 41,
     "metadata": {},
     "output_type": "execute_result"
    }
   ],
   "source": [
    "data.describe()"
   ]
  },
  {
   "cell_type": "markdown",
   "metadata": {},
   "source": [
    "## a. Find the average age of developers when they wrote their first line of code."
   ]
  },
  {
   "cell_type": "code",
   "execution_count": 23,
   "metadata": {},
   "outputs": [],
   "source": [
    "data['Age1stCode'].fillna(0,inplace=True)"
   ]
  },
  {
   "cell_type": "code",
   "execution_count": 28,
   "metadata": {},
   "outputs": [
    {
     "data": {
      "text/plain": [
       "0        10\n",
       "1        17\n",
       "2        22\n",
       "3        16\n",
       "4        14\n",
       "         ..\n",
       "88878     0\n",
       "88879     0\n",
       "88880     0\n",
       "88881     0\n",
       "88882    11\n",
       "Name: Age1stCode, Length: 88883, dtype: int64"
      ]
     },
     "execution_count": 28,
     "metadata": {},
     "output_type": "execute_result"
    }
   ],
   "source": [
    "data['Age1stCode'].astype('int64')"
   ]
  },
  {
   "cell_type": "code",
   "execution_count": 26,
   "metadata": {},
   "outputs": [],
   "source": [
    "data['Age1stCode'].replace({'Younger than 5 years': 4, 'Older than 85': 86},inplace=True)"
   ]
  },
  {
   "cell_type": "code",
   "execution_count": 38,
   "metadata": {},
   "outputs": [],
   "source": [
    "data['Age1stCode']=pd.to_numeric(data['Age1stCode'], errors='coerce')"
   ]
  },
  {
   "cell_type": "code",
   "execution_count": 39,
   "metadata": {},
   "outputs": [
    {
     "data": {
      "text/plain": [
       "array([10, 17, 22, 16, 14, 15, 11, 20, 13, 18, 12, 19, 21,  8, 35,  6,  9,\n",
       "       29,  7,  5, 23, 30,  0, 27, 24,  4, 33, 25, 26, 39, 36, 38, 28, 31,\n",
       "       86, 32, 37, 50, 65, 42, 34, 40, 67, 43, 44, 60, 46, 45, 49, 51, 41,\n",
       "       55, 83, 48, 53, 54, 47, 56, 79, 61, 68, 77, 66, 52, 80, 62, 84, 57,\n",
       "       58, 63], dtype=int64)"
      ]
     },
     "execution_count": 39,
     "metadata": {},
     "output_type": "execute_result"
    }
   ],
   "source": [
    "data['Age1stCode'].unique()"
   ]
  },
  {
   "cell_type": "code",
   "execution_count": 40,
   "metadata": {},
   "outputs": [
    {
     "data": {
      "text/plain": [
       "15.19286027699335"
      ]
     },
     "execution_count": 40,
     "metadata": {},
     "output_type": "execute_result"
    }
   ],
   "source": [
    "data['Age1stCode'].mean()"
   ]
  },
  {
   "cell_type": "markdown",
   "metadata": {},
   "source": [
    "## b. Deduce the percentage of developers who know python in each country."
   ]
  },
  {
   "cell_type": "code",
   "execution_count": 44,
   "metadata": {},
   "outputs": [
    {
     "data": {
      "text/plain": [
       "array(['HTML/CSS;Java;JavaScript;Python', 'C++;HTML/CSS;Python',\n",
       "       'HTML/CSS', ..., 'Bash/Shell/PowerShell;C++;Python;Ruby;Other(s):',\n",
       "       'Assembly;C++;HTML/CSS;VBA',\n",
       "       'Assembly;Bash/Shell/PowerShell;C;C#;HTML/CSS;Java;JavaScript;PHP;SQL;Other(s):'],\n",
       "      dtype=object)"
      ]
     },
     "execution_count": 44,
     "metadata": {},
     "output_type": "execute_result"
    }
   ],
   "source": [
    "data.LanguageWorkedWith.unique()"
   ]
  },
  {
   "cell_type": "code",
   "execution_count": 113,
   "metadata": {},
   "outputs": [],
   "source": [
    "data1 = data.copy()"
   ]
  },
  {
   "cell_type": "code",
   "execution_count": 114,
   "metadata": {},
   "outputs": [],
   "source": [
    "data1 = data1.groupby('Country')"
   ]
  },
  {
   "cell_type": "code",
   "execution_count": 112,
   "metadata": {},
   "outputs": [],
   "source": [
    "data['python'] = pd.Series(data.LanguageWorkedWith).str.contains(pat = 'Python')"
   ]
  },
  {
   "cell_type": "code",
   "execution_count": 115,
   "metadata": {},
   "outputs": [
    {
     "data": {
      "text/plain": [
       "Country      python\n",
       "Afghanistan  False     31\n",
       "             True       8\n",
       "Albania      False     60\n",
       "             True      23\n",
       "Algeria      False     86\n",
       "                       ..\n",
       "Yemen        True       3\n",
       "Zambia       False      8\n",
       "             True       4\n",
       "Zimbabwe     False     25\n",
       "             True      14\n",
       "Name: python, Length: 335, dtype: int64"
      ]
     },
     "execution_count": 115,
     "metadata": {},
     "output_type": "execute_result"
    }
   ],
   "source": [
    "data1.python.value_counts()"
   ]
  },
  {
   "cell_type": "code",
   "execution_count": 116,
   "metadata": {},
   "outputs": [
    {
     "data": {
      "text/plain": [
       "Country\n",
       "Afghanistan                              39\n",
       "Albania                                  83\n",
       "Algeria                                 126\n",
       "Andorra                                   7\n",
       "Angola                                    4\n",
       "                                       ... \n",
       "Venezuela, Bolivarian Republic of...     87\n",
       "Viet Nam                                220\n",
       "Yemen                                    17\n",
       "Zambia                                   12\n",
       "Zimbabwe                                 39\n",
       "Name: python, Length: 179, dtype: int64"
      ]
     },
     "execution_count": 116,
     "metadata": {},
     "output_type": "execute_result"
    }
   ],
   "source": [
    "data1.python.count()"
   ]
  },
  {
   "cell_type": "code",
   "execution_count": 117,
   "metadata": {},
   "outputs": [],
   "source": [
    "result = pd.DataFrame(((data1['python'].value_counts())*100)/data1.python.count())"
   ]
  },
  {
   "cell_type": "code",
   "execution_count": 120,
   "metadata": {},
   "outputs": [
    {
     "data": {
      "text/html": [
       "<div>\n",
       "<style scoped>\n",
       "    .dataframe tbody tr th:only-of-type {\n",
       "        vertical-align: middle;\n",
       "    }\n",
       "\n",
       "    .dataframe tbody tr th {\n",
       "        vertical-align: top;\n",
       "    }\n",
       "\n",
       "    .dataframe thead th {\n",
       "        text-align: right;\n",
       "    }\n",
       "</style>\n",
       "<table border=\"1\" class=\"dataframe\">\n",
       "  <thead>\n",
       "    <tr style=\"text-align: right;\">\n",
       "      <th></th>\n",
       "      <th></th>\n",
       "      <th>python</th>\n",
       "    </tr>\n",
       "    <tr>\n",
       "      <th>Country</th>\n",
       "      <th>python</th>\n",
       "      <th></th>\n",
       "    </tr>\n",
       "  </thead>\n",
       "  <tbody>\n",
       "    <tr>\n",
       "      <th rowspan=\"2\" valign=\"top\">Afghanistan</th>\n",
       "      <th>False</th>\n",
       "      <td>79.487179</td>\n",
       "    </tr>\n",
       "    <tr>\n",
       "      <th>True</th>\n",
       "      <td>20.512821</td>\n",
       "    </tr>\n",
       "    <tr>\n",
       "      <th rowspan=\"2\" valign=\"top\">Albania</th>\n",
       "      <th>False</th>\n",
       "      <td>72.289157</td>\n",
       "    </tr>\n",
       "    <tr>\n",
       "      <th>True</th>\n",
       "      <td>27.710843</td>\n",
       "    </tr>\n",
       "    <tr>\n",
       "      <th>Algeria</th>\n",
       "      <th>False</th>\n",
       "      <td>68.253968</td>\n",
       "    </tr>\n",
       "    <tr>\n",
       "      <th>...</th>\n",
       "      <th>...</th>\n",
       "      <td>...</td>\n",
       "    </tr>\n",
       "    <tr>\n",
       "      <th>Yemen</th>\n",
       "      <th>True</th>\n",
       "      <td>17.647059</td>\n",
       "    </tr>\n",
       "    <tr>\n",
       "      <th rowspan=\"2\" valign=\"top\">Zambia</th>\n",
       "      <th>False</th>\n",
       "      <td>66.666667</td>\n",
       "    </tr>\n",
       "    <tr>\n",
       "      <th>True</th>\n",
       "      <td>33.333333</td>\n",
       "    </tr>\n",
       "    <tr>\n",
       "      <th rowspan=\"2\" valign=\"top\">Zimbabwe</th>\n",
       "      <th>False</th>\n",
       "      <td>64.102564</td>\n",
       "    </tr>\n",
       "    <tr>\n",
       "      <th>True</th>\n",
       "      <td>35.897436</td>\n",
       "    </tr>\n",
       "  </tbody>\n",
       "</table>\n",
       "<p>335 rows × 1 columns</p>\n",
       "</div>"
      ],
      "text/plain": [
       "                       python\n",
       "Country     python           \n",
       "Afghanistan False   79.487179\n",
       "            True    20.512821\n",
       "Albania     False   72.289157\n",
       "            True    27.710843\n",
       "Algeria     False   68.253968\n",
       "...                       ...\n",
       "Yemen       True    17.647059\n",
       "Zambia      False   66.666667\n",
       "            True    33.333333\n",
       "Zimbabwe    False   64.102564\n",
       "            True    35.897436\n",
       "\n",
       "[335 rows x 1 columns]"
      ]
     },
     "execution_count": 120,
     "metadata": {},
     "output_type": "execute_result"
    }
   ],
   "source": [
    "result"
   ]
  },
  {
   "cell_type": "markdown",
   "metadata": {},
   "source": [
    "## c. Generate a report for the average salary of developer based on country(since continent column is not given)."
   ]
  },
  {
   "cell_type": "code",
   "execution_count": 121,
   "metadata": {},
   "outputs": [
    {
     "data": {
      "text/plain": [
       "Index(['Respondent', 'MainBranch', 'Hobbyist', 'OpenSourcer', 'OpenSource',\n",
       "       'Employment', 'Country', 'Student', 'EdLevel', 'UndergradMajor',\n",
       "       'EduOther', 'OrgSize', 'DevType', 'YearsCode', 'Age1stCode',\n",
       "       'YearsCodePro', 'CareerSat', 'JobSat', 'MgrIdiot', 'MgrMoney',\n",
       "       'MgrWant', 'JobSeek', 'LastHireDate', 'LastInt', 'FizzBuzz',\n",
       "       'JobFactors', 'ResumeUpdate', 'CurrencySymbol', 'CurrencyDesc',\n",
       "       'CompTotal', 'CompFreq', 'ConvertedComp', 'WorkWeekHrs', 'WorkPlan',\n",
       "       'WorkChallenge', 'WorkRemote', 'WorkLoc', 'ImpSyn', 'CodeRev',\n",
       "       'CodeRevHrs', 'UnitTests', 'PurchaseHow', 'PurchaseWhat',\n",
       "       'LanguageWorkedWith', 'LanguageDesireNextYear', 'DatabaseWorkedWith',\n",
       "       'DatabaseDesireNextYear', 'PlatformWorkedWith',\n",
       "       'PlatformDesireNextYear', 'WebFrameWorkedWith',\n",
       "       'WebFrameDesireNextYear', 'MiscTechWorkedWith',\n",
       "       'MiscTechDesireNextYear', 'DevEnviron', 'OpSys', 'Containers',\n",
       "       'BlockchainOrg', 'BlockchainIs', 'BetterLife', 'ITperson', 'OffOn',\n",
       "       'SocialMedia', 'Extraversion', 'ScreenName', 'SOVisit1st',\n",
       "       'SOVisitFreq', 'SOVisitTo', 'SOFindAnswer', 'SOTimeSaved',\n",
       "       'SOHowMuchTime', 'SOAccount', 'SOPartFreq', 'SOJobs', 'EntTeams',\n",
       "       'SOComm', 'WelcomeChange', 'SONewContent', 'Age', 'Gender', 'Trans',\n",
       "       'Sexuality', 'Ethnicity', 'Dependents', 'SurveyLength', 'SurveyEase',\n",
       "       'Python_yes_no', 'lang', 'python'],\n",
       "      dtype='object')"
      ]
     },
     "execution_count": 121,
     "metadata": {},
     "output_type": "execute_result"
    }
   ],
   "source": [
    "data.columns"
   ]
  },
  {
   "cell_type": "code",
   "execution_count": 127,
   "metadata": {},
   "outputs": [],
   "source": [
    "data.drop(['Python_yes_no', 'lang'],axis=1,inplace=True)"
   ]
  },
  {
   "cell_type": "code",
   "execution_count": 161,
   "metadata": {},
   "outputs": [],
   "source": [
    "data_c = data.copy()"
   ]
  },
  {
   "cell_type": "code",
   "execution_count": 162,
   "metadata": {},
   "outputs": [],
   "source": [
    "data_c = data_c.groupby('Country')"
   ]
  },
  {
   "cell_type": "code",
   "execution_count": 164,
   "metadata": {},
   "outputs": [],
   "source": [
    "avg_salary = pd.DataFrame(data_c.ConvertedComp.mean())"
   ]
  },
  {
   "cell_type": "code",
   "execution_count": 169,
   "metadata": {},
   "outputs": [],
   "source": [
    "avg_salary = avg_salary.rename({'ConvertedComp':'avgerage_salary'},axis=1)"
   ]
  },
  {
   "cell_type": "code",
   "execution_count": 170,
   "metadata": {},
   "outputs": [
    {
     "data": {
      "text/html": [
       "<div>\n",
       "<style scoped>\n",
       "    .dataframe tbody tr th:only-of-type {\n",
       "        vertical-align: middle;\n",
       "    }\n",
       "\n",
       "    .dataframe tbody tr th {\n",
       "        vertical-align: top;\n",
       "    }\n",
       "\n",
       "    .dataframe thead th {\n",
       "        text-align: right;\n",
       "    }\n",
       "</style>\n",
       "<table border=\"1\" class=\"dataframe\">\n",
       "  <thead>\n",
       "    <tr style=\"text-align: right;\">\n",
       "      <th></th>\n",
       "      <th>avgerage_salary</th>\n",
       "    </tr>\n",
       "    <tr>\n",
       "      <th>Country</th>\n",
       "      <th></th>\n",
       "    </tr>\n",
       "  </thead>\n",
       "  <tbody>\n",
       "    <tr>\n",
       "      <th>Afghanistan</th>\n",
       "      <td>101953.333333</td>\n",
       "    </tr>\n",
       "    <tr>\n",
       "      <th>Albania</th>\n",
       "      <td>21833.700000</td>\n",
       "    </tr>\n",
       "    <tr>\n",
       "      <th>Algeria</th>\n",
       "      <td>34924.047619</td>\n",
       "    </tr>\n",
       "    <tr>\n",
       "      <th>Andorra</th>\n",
       "      <td>160931.000000</td>\n",
       "    </tr>\n",
       "    <tr>\n",
       "      <th>Angola</th>\n",
       "      <td>7764.000000</td>\n",
       "    </tr>\n",
       "    <tr>\n",
       "      <th>...</th>\n",
       "      <td>...</td>\n",
       "    </tr>\n",
       "    <tr>\n",
       "      <th>Venezuela, Bolivarian Republic of...</th>\n",
       "      <td>14581.627907</td>\n",
       "    </tr>\n",
       "    <tr>\n",
       "      <th>Viet Nam</th>\n",
       "      <td>17233.436782</td>\n",
       "    </tr>\n",
       "    <tr>\n",
       "      <th>Yemen</th>\n",
       "      <td>16909.166667</td>\n",
       "    </tr>\n",
       "    <tr>\n",
       "      <th>Zambia</th>\n",
       "      <td>10075.375000</td>\n",
       "    </tr>\n",
       "    <tr>\n",
       "      <th>Zimbabwe</th>\n",
       "      <td>34046.666667</td>\n",
       "    </tr>\n",
       "  </tbody>\n",
       "</table>\n",
       "<p>179 rows × 1 columns</p>\n",
       "</div>"
      ],
      "text/plain": [
       "                                      avgerage_salary\n",
       "Country                                              \n",
       "Afghanistan                             101953.333333\n",
       "Albania                                  21833.700000\n",
       "Algeria                                  34924.047619\n",
       "Andorra                                 160931.000000\n",
       "Angola                                    7764.000000\n",
       "...                                               ...\n",
       "Venezuela, Bolivarian Republic of...     14581.627907\n",
       "Viet Nam                                 17233.436782\n",
       "Yemen                                    16909.166667\n",
       "Zambia                                   10075.375000\n",
       "Zimbabwe                                 34046.666667\n",
       "\n",
       "[179 rows x 1 columns]"
      ]
     },
     "execution_count": 170,
     "metadata": {},
     "output_type": "execute_result"
    }
   ],
   "source": [
    "avg_salary"
   ]
  },
  {
   "cell_type": "markdown",
   "metadata": {},
   "source": [
    "## d. Based on this survey, what will be the most desired programming language for the year 2020?"
   ]
  },
  {
   "cell_type": "code",
   "execution_count": 130,
   "metadata": {},
   "outputs": [
    {
     "data": {
      "text/plain": [
       "array(['C;C++;C#;Go;HTML/CSS;Java;JavaScript;Python;SQL',\n",
       "       'C++;HTML/CSS;JavaScript;SQL', 'Elixir;HTML/CSS', ...,\n",
       "       'Bash/Shell/PowerShell;C;Go;HTML/CSS;JavaScript;WebAssembly',\n",
       "       'C++;HTML/CSS;JavaScript;SQL;WebAssembly;Other(s):',\n",
       "       'C;C++;C#;HTML/CSS;Java;Objective-C;SQL;Swift'], dtype=object)"
      ]
     },
     "execution_count": 130,
     "metadata": {},
     "output_type": "execute_result"
    }
   ],
   "source": [
    "data.LanguageDesireNextYear.unique()"
   ]
  },
  {
   "cell_type": "markdown",
   "metadata": {},
   "source": [
    "## e. What is the distribution of people who code as a hobby based on gender and country?"
   ]
  },
  {
   "cell_type": "code",
   "execution_count": 171,
   "metadata": {},
   "outputs": [],
   "source": [
    "data_e = data.groupby(['Country','Gender'])"
   ]
  },
  {
   "cell_type": "code",
   "execution_count": 176,
   "metadata": {},
   "outputs": [
    {
     "data": {
      "text/plain": [
       "Country      Gender                                                       Hobbyist\n",
       "Afghanistan  Man                                                          Yes          73.076923\n",
       "                                                                          No           26.923077\n",
       "             Non-binary, genderqueer, or gender non-conforming            Yes         100.000000\n",
       "             Woman                                                        No          100.000000\n",
       "             Woman;Man;Non-binary, genderqueer, or gender non-conforming  No          100.000000\n",
       "                                                                                         ...    \n",
       "Zambia       Man                                                          No            9.090909\n",
       "             Woman                                                        Yes         100.000000\n",
       "Zimbabwe     Man                                                          Yes          81.081081\n",
       "                                                                          No           18.918919\n",
       "             Woman                                                        Yes         100.000000\n",
       "Name: Hobbyist, Length: 848, dtype: float64"
      ]
     },
     "execution_count": 176,
     "metadata": {},
     "output_type": "execute_result"
    }
   ],
   "source": [
    "data_e.Hobbyist.value_counts()*100/data_e.Hobbyist.count()"
   ]
  },
  {
   "cell_type": "code",
   "execution_count": 174,
   "metadata": {},
   "outputs": [
    {
     "data": {
      "text/plain": [
       "Man                                                            77919\n",
       "Woman                                                           6344\n",
       "Non-binary, genderqueer, or gender non-conforming                597\n",
       "Man;Non-binary, genderqueer, or gender non-conforming            181\n",
       "Woman;Non-binary, genderqueer, or gender non-conforming          163\n",
       "Woman;Man                                                        132\n",
       "Woman;Man;Non-binary, genderqueer, or gender non-conforming       70\n",
       "Name: Gender, dtype: int64"
      ]
     },
     "execution_count": 174,
     "metadata": {},
     "output_type": "execute_result"
    }
   ],
   "source": [
    "data.Gender.value_counts()"
   ]
  },
  {
   "cell_type": "markdown",
   "metadata": {},
   "source": [
    "## f. Generate the report for job and career satisfaction of developer based on their gender and continent?"
   ]
  },
  {
   "cell_type": "code",
   "execution_count": 185,
   "metadata": {},
   "outputs": [
    {
     "data": {
      "text/plain": [
       "array(['Very satisfied', 'Slightly satisfied', 'Very dissatisfied',\n",
       "       'Slightly dissatisfied', 'Neither satisfied nor dissatisfied'],\n",
       "      dtype=object)"
      ]
     },
     "execution_count": 185,
     "metadata": {},
     "output_type": "execute_result"
    }
   ],
   "source": [
    "data.CareerSat.unique()"
   ]
  },
  {
   "cell_type": "code",
   "execution_count": 186,
   "metadata": {},
   "outputs": [
    {
     "data": {
      "text/plain": [
       "Very satisfied                        45209\n",
       "Slightly satisfied                    25018\n",
       "Slightly dissatisfied                  7670\n",
       "Neither satisfied nor dissatisfied     7252\n",
       "Very dissatisfied                      3734\n",
       "Name: CareerSat, dtype: int64"
      ]
     },
     "execution_count": 186,
     "metadata": {},
     "output_type": "execute_result"
    }
   ],
   "source": [
    "data.CareerSat.value_counts()"
   ]
  },
  {
   "cell_type": "code",
   "execution_count": 184,
   "metadata": {},
   "outputs": [],
   "source": [
    "data.CareerSat.fillna('Very satisfied',inplace=True)"
   ]
  },
  {
   "cell_type": "code",
   "execution_count": 191,
   "metadata": {},
   "outputs": [],
   "source": [
    "data_f =data.groupby(['Country','Gender'])"
   ]
  },
  {
   "cell_type": "code",
   "execution_count": 190,
   "metadata": {},
   "outputs": [],
   "source": [
    "data.Gender = data.Gender.replace({'Non-binary, genderqueer, or gender non-conforming':'Others','Man;Non-binary, genderqueer, or gender non-conforming':'Others','Woman;Non-binary, genderqueer, or gender non-conforming':'Others','Woman;Man':'Others','Woman;Man;Non-binary, genderqueer, or gender non-conforming':'Others'})"
   ]
  },
  {
   "cell_type": "code",
   "execution_count": 192,
   "metadata": {
    "scrolled": true
   },
   "outputs": [
    {
     "data": {
      "text/plain": [
       "Country      Gender  CareerSat                         \n",
       "Afghanistan  Man     Very satisfied                         65.384615\n",
       "                     Slightly dissatisfied                  15.384615\n",
       "                     Slightly satisfied                      7.692308\n",
       "                     Very dissatisfied                       7.692308\n",
       "                     Neither satisfied nor dissatisfied      3.846154\n",
       "                                                              ...    \n",
       "Zimbabwe     Man     Slightly satisfied                     24.324324\n",
       "                     Neither satisfied nor dissatisfied      8.108108\n",
       "                     Very dissatisfied                       8.108108\n",
       "                     Slightly dissatisfied                   2.702703\n",
       "             Woman   Very satisfied                        100.000000\n",
       "Name: CareerSat, Length: 1545, dtype: float64"
      ]
     },
     "execution_count": 192,
     "metadata": {},
     "output_type": "execute_result"
    }
   ],
   "source": [
    "data_e.CareerSat.value_counts()*100/data_e.CareerSat.count()"
   ]
  },
  {
   "cell_type": "markdown",
   "metadata": {},
   "source": [
    "# g. For problems f and g, gender should have three categories man, woman and others. If a record have any other value, consider it as Others."
   ]
  },
  {
   "cell_type": "markdown",
   "metadata": {},
   "source": [
    "# Question f and g are similar, so answers are in f."
   ]
  },
  {
   "cell_type": "code",
   "execution_count": null,
   "metadata": {},
   "outputs": [],
   "source": []
  }
 ],
 "metadata": {
  "kernelspec": {
   "display_name": "Python 3",
   "language": "python",
   "name": "python3"
  },
  "language_info": {
   "codemirror_mode": {
    "name": "ipython",
    "version": 3
   },
   "file_extension": ".py",
   "mimetype": "text/x-python",
   "name": "python",
   "nbconvert_exporter": "python",
   "pygments_lexer": "ipython3",
   "version": "3.8.3"
  }
 },
 "nbformat": 4,
 "nbformat_minor": 2
}
